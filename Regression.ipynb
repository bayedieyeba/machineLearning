{
 "cells": [
  {
   "cell_type": "code",
   "execution_count": 26,
   "id": "c0ed70f4",
   "metadata": {},
   "outputs": [
    {
     "name": "stdout",
     "output_type": "stream",
     "text": [
      "Coefficients: \n",
      " [-1.35300427e-01  6.26618638e-02 -1.40423464e-02  3.47772125e+00\n",
      " -1.88791757e+01  3.05489663e+00  4.28523879e-03 -1.63775297e+00\n",
      "  3.86864307e-01 -1.51522732e-02 -8.35325771e-01  8.67518727e-03\n",
      " -5.33630373e-01]\n",
      "Mean squared error: 25.07\n",
      "Variance score: 0.74\n"
     ]
    },
    {
     "data": {
      "text/plain": [
       "Text(0.5, 1.0, 'Prices vs Predicted prices: $Y_i$ vs $\\\\hat{Y}_i$')"
      ]
     },
     "execution_count": 26,
     "metadata": {},
     "output_type": "execute_result"
    },
    {
     "data": {
      "image/png": "[encoded data removed]",
      "text/plain": [
       "<Figure size 432x288 with 1 Axes>"
      ]
     },
     "metadata": {
      "needs_background": "light"
     },
     "output_type": "display_data"
    }
   ],
   "source": [
    "import numpy as np\n",
    "import pandas as pd\n",
    "import matplotlib.pyplot as plt\n",
    "from sklearn.model_selection import train_test_split\n",
    "from sklearn.linear_model import LinearRegression\n",
    "from sklearn.metrics import mean_squared_error, r2_score\n",
    "\n",
    "dataset = pd.read_csv(r'C:\\Users\\hp\\Desktop\\python\\datasets\\Boston.csv')\n",
    "\n",
    "x = dataset.drop(['Unnamed: 0','medv'],axis=1)\n",
    "y = dataset['medv']\n",
    "\n",
    "x_train,x_test,y_train,y_test = train_test_split(x,y, test_size=0.3)\n",
    "\n",
    "regressor = LinearRegression()\n",
    "\n",
    "regressor.fit(x_train, y_train)\n",
    "\n",
    "y_pred = regressor.predict(x_test)\n",
    "\n",
    "\n",
    "# The coefficients\n",
    "\n",
    "print('Coefficients: \\n', regressor.coef_)\n",
    "\n",
    "# The mean squared error\n",
    "print('Mean squared error: {:.2f}'.format(mean_squared_error(y_test, y_pred)))\n",
    "\n",
    "# Explained variance score: 1 is perfect prediction\n",
    "print('Variance score: {:.2f}'.format(r2_score(y_test, y_pred)))\n",
    "\n",
    "plt.scatter(y_test, y_pred)\n",
    "\n",
    "plt.xlabel(\"Prices: $Y_i$\")\n",
    "plt.ylabel(\"Predicted prices: $\\hat{Y}_i$\")\n",
    "plt.title(\"Prices vs Predicted prices: $Y_i$ vs $\\hat{Y}_i$\")\n",
    "\n",
    "# plt.scatter(dataset['crim'],dataset['medv'])\n",
    "# plt.xlabel('Per capita crime rate by town')\n",
    "# plt.ylabel('Price')\n",
    "# plt.title(\"Prices vs Crime rate\")"
   ]
  }
 ],
 "metadata": {
  "kernelspec": {
   "display_name": "Python 3",
   "language": "python",
   "name": "python3"
  },
  "language_info": {
   "codemirror_mode": {
    "name": "ipython",
    "version": 3
   },
   "file_extension": ".py",
   "mimetype": "text/x-python",
   "name": "python",
   "nbconvert_exporter": "python",
   "pygments_lexer": "ipython3",
   "version": "3.8.8"
  }
 },
 "nbformat": 4,
 "nbformat_minor": 5
}
