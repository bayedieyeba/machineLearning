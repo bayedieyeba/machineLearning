{
 "cells": [
  {
   "cell_type": "code",
   "execution_count": 18,
   "id": "5f35c393",
   "metadata": {},
   "outputs": [
    {
     "name": "stdout",
     "output_type": "stream",
     "text": [
      "Accuracy: 0.9763101220387652\n"
     ]
    }
   ],
   "source": [
    "import numpy as np\n",
    "import pandas as pd\n",
    "import matplotlib.pyplot as plt\n",
    "from sklearn.feature_extraction.text import CountVectorizer\n",
    "from sklearn.model_selection import train_test_split\n",
    "from sklearn.naive_bayes import MultinomialNB\n",
    "\n",
    "\n",
    "data = pd.read_csv(r'C:\\Users\\hp\\Desktop\\python\\datasets\\archive2\\spam.csv', encoding='latin-1')\n",
    "\n",
    "data.head()\n",
    "\n",
    "f = CountVectorizer(stop_words = 'english')\n",
    "X = f.fit_transform(data[\"v2\"])\n",
    "data[\"v1\"]=data[\"v1\"].map({'spam':1,'ham':0})\n",
    "X_train, X_test, y_train, y_test = train_test_split(X, data['v1'], test_size=0.25, random_state=42)\n",
    "clf = MultinomialNB()\n",
    "clf.fit(X_train, y_train)\n",
    "score = clf.score(X_test, y_test)\n",
    "print('Accuracy: {}'.format(score))\n",
    "\n",
    "\n",
    "\n",
    "# count_class = pd.value_counts(data['v1'], sort= True)\n",
    "# count_class.plot(kind='bar', color=[['blue', 'red']])\n",
    "# plt.title('Bar chart')\n",
    "# plt.show()"
   ]
  }
 ],
 "metadata": {
  "kernelspec": {
   "display_name": "Python 3",
   "language": "python",
   "name": "python3"
  },
  "language_info": {
   "codemirror_mode": {
    "name": "ipython",
    "version": 3
   },
   "file_extension": ".py",
   "mimetype": "text/x-python",
   "name": "python",
   "nbconvert_exporter": "python",
   "pygments_lexer": "ipython3",
   "version": "3.8.8"
  }
 },
 "nbformat": 4,
 "nbformat_minor": 5
}
