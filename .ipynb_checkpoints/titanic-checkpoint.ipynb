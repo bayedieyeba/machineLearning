{
 "cells": [
  {
   "cell_type": "code",
   "execution_count": 2,
   "id": "8ad62a8e",
   "metadata": {},
   "outputs": [
    {
     "name": "stdout",
     "output_type": "stream",
     "text": [
      "[[-0.15072925  0.23372253  0.00675618  0.37803728  0.10814039 -0.84382307]]\n"
     ]
    },
    {
     "data": {
      "image/png": "[encoded data removed]",
      "text/plain": [
       "<Figure size 432x288 with 1 Axes>"
      ]
     },
     "metadata": {
      "needs_background": "light"
     },
     "output_type": "display_data"
    },
    {
     "ename": "ModuleNotFoundError",
     "evalue": "No module named 'sklearn.cross_validation'",
     "output_type": "error",
     "traceback": [
      "\u001b[1;31m---------------------------------------------------------------------------\u001b[0m",
      "\u001b[1;31mModuleNotFoundError\u001b[0m                       Traceback (most recent call last)",
      "\u001b[1;32m<ipython-input-2-bae650e5bee4>\u001b[0m in \u001b[0;36m<module>\u001b[1;34m\u001b[0m\n\u001b[0;32m     77\u001b[0m \u001b[1;31m# rf = RandomForestClassifier()\u001b[0m\u001b[1;33m\u001b[0m\u001b[1;33m\u001b[0m\u001b[1;33m\u001b[0m\u001b[0m\n\u001b[0;32m     78\u001b[0m \u001b[1;31m# compute_score(rf, X, y)\u001b[0m\u001b[1;33m\u001b[0m\u001b[1;33m\u001b[0m\u001b[1;33m\u001b[0m\u001b[0m\n\u001b[1;32m---> 79\u001b[1;33m \u001b[1;32mfrom\u001b[0m \u001b[0msklearn\u001b[0m\u001b[1;33m.\u001b[0m\u001b[0mcross_validation\u001b[0m \u001b[1;32mimport\u001b[0m \u001b[0mcross_val_score\u001b[0m\u001b[1;33m\u001b[0m\u001b[1;33m\u001b[0m\u001b[0m\n\u001b[0m\u001b[0;32m     80\u001b[0m \u001b[1;32mdef\u001b[0m \u001b[0mcompute_score\u001b[0m\u001b[1;33m(\u001b[0m\u001b[0mclf\u001b[0m\u001b[1;33m,\u001b[0m \u001b[0mX\u001b[0m\u001b[1;33m,\u001b[0m \u001b[0my\u001b[0m\u001b[1;33m)\u001b[0m\u001b[1;33m:\u001b[0m\u001b[1;33m\u001b[0m\u001b[1;33m\u001b[0m\u001b[0m\n\u001b[0;32m     81\u001b[0m     \u001b[0mxval\u001b[0m \u001b[1;33m=\u001b[0m \u001b[0mcross_val_score\u001b[0m\u001b[1;33m(\u001b[0m\u001b[0mclf\u001b[0m\u001b[1;33m,\u001b[0m \u001b[0mX\u001b[0m\u001b[1;33m,\u001b[0m \u001b[0my\u001b[0m\u001b[1;33m,\u001b[0m \u001b[0mcv\u001b[0m \u001b[1;33m=\u001b[0m \u001b[1;36m5\u001b[0m\u001b[1;33m)\u001b[0m\u001b[1;33m\u001b[0m\u001b[1;33m\u001b[0m\u001b[0m\n",
      "\u001b[1;31mModuleNotFoundError\u001b[0m: No module named 'sklearn.cross_validation'"
     ]
    }
   ],
   "source": [
    "import numpy as np\n",
    "import pandas as pd\n",
    "\n",
    "train = pd.read_csv(r'C:\\Users\\hp\\Desktop\\python\\datasets\\titatinic\\train.csv')\n",
    "\n",
    "train.head(10)\n",
    "\n",
    "train.set_index('PassengerId',inplace=True,drop=True)#indexer le dataset avec la variable PassengerId\n",
    "\n",
    "#train.columns\n",
    "#train.dtypes.value_counts()\n",
    "\n",
    "#fonction de persing\n",
    "def parse_model_0(X):\n",
    "    target = X.Survived\n",
    "    X = X[['Fare','SibSp','Parch']]\n",
    "    return X, target\n",
    "X,y=parse_model_0(train.copy())\n",
    "\n",
    "#score de validation \n",
    "# from sklearn.cross_validation import cross_val_score\n",
    "# def compute_score(clf,X,y):\n",
    "#     xval=cross_val_score(cfl,X,y,cv=5)\n",
    "#     return mean(xval)\n",
    "# from sklearn.linear_model import LogisticRegression\n",
    "\n",
    "# lr = LogisticRegression()\n",
    "# computer_score(lr,X,y)\n",
    "\n",
    "survived= train[train.Survived==1]\n",
    "dead = train[train.Survived==0]\n",
    "\n",
    "import matplotlib.pyplot as plt\n",
    "import numpy as np\n",
    "def plot_hist(feature, bins=20):\n",
    "    x1=list(dead[feature].dropna())\n",
    "    x2=list(survived[feature].dropna())\n",
    "    plt.hist([x1,x2], label=['Victime','Survivant'], bins=bins)#,\n",
    "    \n",
    "    plt.legend(loc='upper left')\n",
    "    plt.title('distribution ralative de %s' %feature)\n",
    "    plt.show()\n",
    "# plot_hist('Pclass')\n",
    "def parse_model_1(X):\n",
    "    target = X.Survived\n",
    "    dum='Pclass'\n",
    "    class_dummies = pd.get_dummies(X['Pclass'],prefix='split_'+dum)\n",
    "    X=X.join(class_dummies)\n",
    "    to_del = ['Name','Age','Cabin','Embarked','Survived','Ticket','Sex','Pclass']\n",
    "    for col in to_del : del X[col]\n",
    "    return X, target\n",
    "X,y=parse_model_1(train.copy())\n",
    "\n",
    "from sklearn.linear_model import LogisticRegression \n",
    "\n",
    "lr = LogisticRegression()\n",
    "lr.fit(X, y)\n",
    "print (lr.coef_)\n",
    "\n",
    "def parse_model_2(X):\n",
    "    target = X.Survived\n",
    "    to_dummies  = ['Pclass', 'Sex']\n",
    "    for dum in to_dummies:\n",
    "        split_temp = pd.get_dummies(X[dum], prefix='split_'+dum)\n",
    "        for col in split_temp:\n",
    "            X[col]= split_temp[col]\n",
    "            \n",
    "    X['Age'] = X.Age.fillna(X.Age.median())\n",
    "    to_del = ['Name', 'Cabin', 'Embarked', 'Survived', 'Ticket']\n",
    "    for col in to_del : del X[col]\n",
    "    return X, target\n",
    "\n",
    "X,y= parse_model_2(train.copy())     \n",
    "X['is_child'] = X.Age < 8\n",
    "plot_hist('Age')\n",
    "# from sklearn.ensemble import RandomForestClassifier\n",
    "# rf = RandomForestClassifier()\n",
    "# compute_score(rf, X, y)\n",
    "\n"
   ]
  },
  {
   "cell_type": "code",
   "execution_count": null,
   "id": "cd130d72",
   "metadata": {},
   "outputs": [],
   "source": []
  }
 ],
 "metadata": {
  "kernelspec": {
   "display_name": "Python 3",
   "language": "python",
   "name": "python3"
  },
  "language_info": {
   "codemirror_mode": {
    "name": "ipython",
    "version": 3
   },
   "file_extension": ".py",
   "mimetype": "text/x-python",
   "name": "python",
   "nbconvert_exporter": "python",
   "pygments_lexer": "ipython3",
   "version": "3.8.8"
  }
 },
 "nbformat": 4,
 "nbformat_minor": 5
}
